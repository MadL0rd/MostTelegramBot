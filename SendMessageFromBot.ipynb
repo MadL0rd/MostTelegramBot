{
 "cells": [
  {
   "cell_type": "code",
   "execution_count": 16,
   "metadata": {},
   "outputs": [],
   "source": [
    "import requests\n",
    "import json"
   ]
  },
  {
   "cell_type": "code",
   "execution_count": 19,
   "metadata": {},
   "outputs": [],
   "source": [
    "msgText = \"\"\"\n",
    "Менеджер не может с вами связаться из-за настроек приватности. Напишите, пожалуйста, @Alexandreas\n",
    "\"\"\"\n",
    "chatId = \"243378934\" # AntonTekutov\n",
    "chatId = \"1230689258\"\n",
    "apiKey = 'bot5278616125:AAH65CfKVC7pCiWZyPTGQQY442l4C4tBB8E'\n",
    "\n",
    "url = f\"https://api.telegram.org/{apiKey}/sendMessage?chat_id={chatId}&text={msgText}\""
   ]
  },
  {
   "cell_type": "code",
   "execution_count": 20,
   "metadata": {},
   "outputs": [
    {
     "name": "stdout",
     "output_type": "stream",
     "text": [
      "200\n",
      "{'ok': True, 'result': {'message_id': 3035, 'from': {'id': 5278616125, 'is_bot': True, 'first_name': 'Most –\\xa0renting transport on Bali', 'username': 'MostBaliBot'}, 'chat': {'id': 1230689258, 'first_name': 'Diane', 'type': 'private'}, 'date': 1669537836, 'text': 'Менеджер не может с вами связаться из-за настроек приватности. Напишите, пожалуйста, @Alexandreas', 'entities': [{'offset': 85, 'length': 12, 'type': 'mention'}]}}\n"
     ]
    }
   ],
   "source": [
    "response = requests.get(url)\n",
    "print(response.status_code)\n",
    "print(response.json())"
   ]
  },
  {
   "cell_type": "code",
   "execution_count": 132,
   "metadata": {},
   "outputs": [],
   "source": [
    "\n",
    "url = \"https://api.trello.com/1/cards\"\n",
    "\n",
    "headers = {\n",
    "  \"Accept\": \"application/json\"\n",
    "}\n",
    "\n",
    "query = {\n",
    "    \"key\": \"7cdb883b54cfa75f2b016922ed481a7f\",\n",
    "    \"token\": \"4debfd8b041f59fc21f7090dd27440859c278376b41b6659ff8119af55b71f3b\",\n",
    "    \"idList\": \"637c98853662f80248211a4e\",\n",
    "    \"name\": \"Test card\",\n",
    "    \"desc\": \"Some text\",\n",
    "    \"pos\": \"top\"\n",
    "}\n",
    "\n",
    "response = requests.request(\n",
    "   \"POST\",\n",
    "   url,\n",
    "   headers=headers,\n",
    "   params=query\n",
    ")"
   ]
  },
  {
   "cell_type": "code",
   "execution_count": 134,
   "metadata": {},
   "outputs": [
    {
     "data": {
      "text/plain": [
       "'6384103b497f1e04238eb884'"
      ]
     },
     "execution_count": 134,
     "metadata": {},
     "output_type": "execute_result"
    }
   ],
   "source": [
    "response.json()['id']"
   ]
  },
  {
   "cell_type": "code",
   "execution_count": null,
   "metadata": {},
   "outputs": [],
   "source": [
    "loadingSamples = [\n",
    "    # \"🟩🟩⬜️⬜️⬜️⬜️⬜️⬜️⬜️⬜️\",\n",
    "    # \"🟩🟩🟩⬜️⬜️⬜️⬜️⬜️⬜️⬜️\",\n",
    "    # \"⬜️🟩🟩🟩⬜️⬜️⬜️⬜️⬜️⬜️\",\n",
    "    # \"⬜️⬜️🟩🟩🟩⬜️⬜️⬜️⬜️⬜️\",\n",
    "    # \"⬜️⬜️⬜️🟩🟩🟩⬜️⬜️⬜️⬜️\",\n",
    "    # \"⬜️⬜️⬜️⬜️🟩🟩🟩⬜️⬜️⬜️\",\n",
    "    # \"⬜️⬜️⬜️⬜️⬜️🟩🟩🟩⬜️⬜️\",\n",
    "    # \"⬜️⬜️⬜️⬜️⬜️⬜️🟩🟩🟩⬜️\",\n",
    "    # \"⬜️⬜️⬜️⬜️⬜️⬜️⬜️🟩🟩🟩\",\n",
    "    # \"⬜️⬜️⬜️⬜️⬜️⬜️⬜️⬜️🟩🟩\",\n",
    "    # \"🟩⬜️⬜️⬜️⬜️⬜️⬜️⬜️⬜️🟩\",\n",
    "\n",
    "    \"🕑\",\n",
    "    \"🕒\",\n",
    "    \"🕓\",\n",
    "    \"🕔\",\n",
    "    \"🕕\",\n",
    "    \"🕖\",\n",
    "    \"🕗\",\n",
    "    \"🕘\",\n",
    "    \"🕙\",\n",
    "    \"🕚\",\n",
    "    \"🕛\",\n",
    "    \"🕐\",\n",
    "]\n",
    "loadingSampleStart = loadingSamples[len(loadingSamples) - 1]\n",
    "\n",
    "\n",
    "# async def sendLoadingMessage(self, userTg: User):\n",
    "#         message = await self.bot.send_message(\n",
    "#             chat_id = userTg.id,\n",
    "#             text=loadingSampleStart\n",
    "#         )\n",
    "#         while True:\n",
    "#             for sample in loadingSamples:\n",
    "#                 await message.edit_text(sample)\n",
    "#                 await asyncio.sleep(0.5)"
   ]
  },
  {
   "cell_type": "code",
   "execution_count": 3,
   "metadata": {},
   "outputs": [],
   "source": [
    "from  pathlib import Path"
   ]
  },
  {
   "cell_type": "code",
   "execution_count": 5,
   "metadata": {},
   "outputs": [],
   "source": [
    "kek = Path(\"./DataStorage\")"
   ]
  },
  {
   "cell_type": "code",
   "execution_count": 8,
   "metadata": {},
   "outputs": [
    {
     "data": {
      "text/plain": [
       "PosixPath('DataStorage/asdad/asdasd')"
      ]
     },
     "execution_count": 8,
     "metadata": {},
     "output_type": "execute_result"
    }
   ],
   "source": [
    "kek / \"asdad\" / \"asdasd\""
   ]
  },
  {
   "cell_type": "code",
   "execution_count": 10,
   "metadata": {},
   "outputs": [
    {
     "name": "stdout",
     "output_type": "stream",
     "text": [
      "<class 'pathlib.PosixPath'>\n"
     ]
    }
   ],
   "source": [
    "print(type(kek))"
   ]
  },
  {
   "cell_type": "code",
   "execution_count": null,
   "metadata": {},
   "outputs": [],
   "source": []
  }
 ],
 "metadata": {
  "kernelspec": {
   "display_name": "Python 3.8.3 ('base')",
   "language": "python",
   "name": "python3"
  },
  "language_info": {
   "codemirror_mode": {
    "name": "ipython",
    "version": 3
   },
   "file_extension": ".py",
   "mimetype": "text/x-python",
   "name": "python",
   "nbconvert_exporter": "python",
   "pygments_lexer": "ipython3",
   "version": "3.8.3"
  },
  "orig_nbformat": 4,
  "vscode": {
   "interpreter": {
    "hash": "7b7c7b2245f84aa233e35c86f483dabad4d751346c1b04aaf192d0cd0bfc0ef9"
   }
  }
 },
 "nbformat": 4,
 "nbformat_minor": 2
}
