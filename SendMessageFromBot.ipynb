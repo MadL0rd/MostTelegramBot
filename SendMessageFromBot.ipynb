{
 "cells": [
  {
   "cell_type": "code",
   "execution_count": 1,
   "metadata": {},
   "outputs": [],
   "source": [
    "import requests\n",
    "import json"
   ]
  },
  {
   "cell_type": "code",
   "execution_count": 4,
   "metadata": {},
   "outputs": [],
   "source": [
    "msgText = \"\"\"\n",
    "Менеджер не может с вами связаться из-за настроек приватности. Напишите, пожалуйста, @Alexandreas\n",
    "\"\"\"\n",
    "chatId = \"243378934\" # AntonTekutov\n",
    "# chatId = \"1230689258\"\n",
    "apiKey = 'bot5278616125:AAH65CfKVC7pCiWZyPTGQQY442l4C4tBB8E'\n",
    "\n",
    "url = f\"https://api.telegram.org/{apiKey}/sendMessage?chat_id={chatId}&text={msgText}\""
   ]
  },
  {
   "cell_type": "code",
   "execution_count": 5,
   "metadata": {},
   "outputs": [
    {
     "name": "stdout",
     "output_type": "stream",
     "text": [
      "200\n",
      "{'ok': True, 'result': {'message_id': 21138, 'from': {'id': 5278616125, 'is_bot': True, 'first_name': 'Most –\\xa0renting transport on Bali', 'username': 'MostBaliBot'}, 'chat': {'id': 243378934, 'first_name': 'Антон', 'last_name': 'Текутов', 'username': 'MadL0rd', 'type': 'private'}, 'date': 1673359601, 'text': 'Менеджер не может с вами связаться из-за настроек приватности. Напишите, пожалуйста, @Alexandreas', 'entities': [{'offset': 85, 'length': 12, 'type': 'mention'}]}}\n"
     ]
    }
   ],
   "source": [
    "response = requests.get(url)\n",
    "print(response.status_code)\n",
    "print(response.json())"
   ]
  },
  {
   "cell_type": "code",
   "execution_count": 10,
   "metadata": {},
   "outputs": [
    {
     "name": "stdout",
     "output_type": "stream",
     "text": [
      "<Response [200]>\n"
     ]
    }
   ],
   "source": [
    "img = open('./image.jpg', 'rb')\n",
    "# chatId = \"243378934\" # AntonTekutov\n",
    "# chatId = \"90020180\" #Alexander Polishchu\n",
    "chatId = \"5699011932\"\n",
    "apiKey = 'bot5278616125:AAH65CfKVC7pCiWZyPTGQQY442l4C4tBB8E'\n",
    "\n",
    "url = f'https://api.telegram.org/{apiKey}/sendPhoto?chat_id={chatId}'\n",
    "\n",
    "print(requests.post(url, files={'photo': img}))"
   ]
  },
  {
   "cell_type": "code",
   "execution_count": null,
   "metadata": {},
   "outputs": [],
   "source": [
    "\n",
    "url = \"https://api.trello.com/1/cards\"\n",
    "\n",
    "headers = {\n",
    "  \"Accept\": \"application/json\"\n",
    "}\n",
    "\n",
    "query = {\n",
    "    \"key\": \"7cdb883b54cfa75f2b016922ed481a7f\",\n",
    "    \"token\": \"4debfd8b041f59fc21f7090dd27440859c278376b41b6659ff8119af55b71f3b\",\n",
    "    \"idList\": \"637c98853662f80248211a4e\",\n",
    "    \"name\": \"Test card\",\n",
    "    \"desc\": \"Some text\",\n",
    "    \"pos\": \"top\"\n",
    "}\n",
    "\n",
    "response = requests.request(\n",
    "   \"POST\",\n",
    "   url,\n",
    "   headers=headers,\n",
    "   params=query\n",
    ")"
   ]
  },
  {
   "cell_type": "code",
   "execution_count": null,
   "metadata": {},
   "outputs": [],
   "source": [
    "response.json()['id']"
   ]
  },
  {
   "cell_type": "code",
   "execution_count": null,
   "metadata": {},
   "outputs": [],
   "source": [
    "loadingSamples = [\n",
    "    # \"🟩🟩⬜️⬜️⬜️⬜️⬜️⬜️⬜️⬜️\",\n",
    "    # \"🟩🟩🟩⬜️⬜️⬜️⬜️⬜️⬜️⬜️\",\n",
    "    # \"⬜️🟩🟩🟩⬜️⬜️⬜️⬜️⬜️⬜️\",\n",
    "    # \"⬜️⬜️🟩🟩🟩⬜️⬜️⬜️⬜️⬜️\",\n",
    "    # \"⬜️⬜️⬜️🟩🟩🟩⬜️⬜️⬜️⬜️\",\n",
    "    # \"⬜️⬜️⬜️⬜️🟩🟩🟩⬜️⬜️⬜️\",\n",
    "    # \"⬜️⬜️⬜️⬜️⬜️🟩🟩🟩⬜️⬜️\",\n",
    "    # \"⬜️⬜️⬜️⬜️⬜️⬜️🟩🟩🟩⬜️\",\n",
    "    # \"⬜️⬜️⬜️⬜️⬜️⬜️⬜️🟩🟩🟩\",\n",
    "    # \"⬜️⬜️⬜️⬜️⬜️⬜️⬜️⬜️🟩🟩\",\n",
    "    # \"🟩⬜️⬜️⬜️⬜️⬜️⬜️⬜️⬜️🟩\",\n",
    "\n",
    "    \"🕑\",\n",
    "    \"🕒\",\n",
    "    \"🕓\",\n",
    "    \"🕔\",\n",
    "    \"🕕\",\n",
    "    \"🕖\",\n",
    "    \"🕗\",\n",
    "    \"🕘\",\n",
    "    \"🕙\",\n",
    "    \"🕚\",\n",
    "    \"🕛\",\n",
    "    \"🕐\",\n",
    "]\n",
    "loadingSampleStart = loadingSamples[len(loadingSamples) - 1]\n",
    "\n",
    "\n",
    "# async def sendLoadingMessage(self, userTg: User):\n",
    "#         message = await self.bot.send_message(\n",
    "#             chat_id = userTg.id,\n",
    "#             text=loadingSampleStart\n",
    "#         )\n",
    "#         while True:\n",
    "#             for sample in loadingSamples:\n",
    "#                 await message.edit_text(sample)\n",
    "#                 await asyncio.sleep(0.5)"
   ]
  },
  {
   "cell_type": "code",
   "execution_count": null,
   "metadata": {},
   "outputs": [],
   "source": [
    "from  pathlib import Path"
   ]
  },
  {
   "cell_type": "code",
   "execution_count": null,
   "metadata": {},
   "outputs": [],
   "source": [
    "kek = Path(\"./DataStorage\")"
   ]
  },
  {
   "cell_type": "code",
   "execution_count": null,
   "metadata": {},
   "outputs": [],
   "source": [
    "kek / \"asdad\" / \"asdasd\""
   ]
  },
  {
   "cell_type": "code",
   "execution_count": null,
   "metadata": {},
   "outputs": [],
   "source": [
    "print(type(kek))"
   ]
  },
  {
   "cell_type": "code",
   "execution_count": null,
   "metadata": {},
   "outputs": [],
   "source": [
    "kek = [2, 4, 8, 10, 2]"
   ]
  },
  {
   "cell_type": "code",
   "execution_count": null,
   "metadata": {},
   "outputs": [],
   "source": [
    "next(filter(lambda ch: ch == 2, kek))"
   ]
  },
  {
   "cell_type": "code",
   "execution_count": 1,
   "metadata": {},
   "outputs": [],
   "source": [
    "from Core.StorageManager.StorageFactory import storageDefault\n"
   ]
  },
  {
   "cell_type": "code",
   "execution_count": 2,
   "metadata": {},
   "outputs": [
    {
     "data": {
      "text/plain": [
       "'Search for an instructor'"
      ]
     },
     "execution_count": 2,
     "metadata": {},
     "output_type": "execute_result"
    }
   ],
   "source": [
    "storageDefault.getUserRequestObjectName(\"243378934\")"
   ]
  },
  {
   "cell_type": "code",
   "execution_count": null,
   "metadata": {},
   "outputs": [],
   "source": []
  }
 ],
 "metadata": {
  "kernelspec": {
   "display_name": "Python 3.8.3 ('base')",
   "language": "python",
   "name": "python3"
  },
  "language_info": {
   "codemirror_mode": {
    "name": "ipython",
    "version": 3
   },
   "file_extension": ".py",
   "mimetype": "text/x-python",
   "name": "python",
   "nbconvert_exporter": "python",
   "pygments_lexer": "ipython3",
   "version": "3.8.3"
  },
  "orig_nbformat": 4,
  "vscode": {
   "interpreter": {
    "hash": "7b7c7b2245f84aa233e35c86f483dabad4d751346c1b04aaf192d0cd0bfc0ef9"
   }
  }
 },
 "nbformat": 4,
 "nbformat_minor": 2
}
