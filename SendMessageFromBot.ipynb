{
 "cells": [
  {
   "cell_type": "code",
   "execution_count": 16,
   "metadata": {},
   "outputs": [],
   "source": [
    "import requests\n",
    "import json"
   ]
  },
  {
   "cell_type": "code",
   "execution_count": 19,
   "metadata": {},
   "outputs": [],
   "source": [
    "msgText = \"\"\"\n",
    "Менеджер не может с вами связаться из-за настроек приватности. Напишите, пожалуйста, @Alexandreas\n",
    "\"\"\"\n",
    "chatId = \"243378934\" # AntonTekutov\n",
    "chatId = \"1230689258\"\n",
    "apiKey = 'bot5278616125:AAH65CfKVC7pCiWZyPTGQQY442l4C4tBB8E'\n",
    "\n",
    "url = f\"https://api.telegram.org/{apiKey}/sendMessage?chat_id={chatId}&text={msgText}\""
   ]
  },
  {
   "cell_type": "code",
   "execution_count": 20,
   "metadata": {},
   "outputs": [
    {
     "name": "stdout",
     "output_type": "stream",
     "text": [
      "200\n",
      "{'ok': True, 'result': {'message_id': 3035, 'from': {'id': 5278616125, 'is_bot': True, 'first_name': 'Most –\\xa0renting transport on Bali', 'username': 'MostBaliBot'}, 'chat': {'id': 1230689258, 'first_name': 'Diane', 'type': 'private'}, 'date': 1669537836, 'text': 'Менеджер не может с вами связаться из-за настроек приватности. Напишите, пожалуйста, @Alexandreas', 'entities': [{'offset': 85, 'length': 12, 'type': 'mention'}]}}\n"
     ]
    }
   ],
   "source": [
    "response = requests.get(url)\n",
    "print(response.status_code)\n",
    "print(response.json())"
   ]
  },
  {
   "cell_type": "code",
   "execution_count": null,
   "metadata": {},
   "outputs": [],
   "source": []
  },
  {
   "cell_type": "code",
   "execution_count": null,
   "metadata": {},
   "outputs": [],
   "source": []
  }
 ],
 "metadata": {
  "kernelspec": {
   "display_name": "Python 3.8.3 ('base')",
   "language": "python",
   "name": "python3"
  },
  "language_info": {
   "codemirror_mode": {
    "name": "ipython",
    "version": 3
   },
   "file_extension": ".py",
   "mimetype": "text/x-python",
   "name": "python",
   "nbconvert_exporter": "python",
   "pygments_lexer": "ipython3",
   "version": "3.8.3"
  },
  "orig_nbformat": 4,
  "vscode": {
   "interpreter": {
    "hash": "7b7c7b2245f84aa233e35c86f483dabad4d751346c1b04aaf192d0cd0bfc0ef9"
   }
  }
 },
 "nbformat": 4,
 "nbformat_minor": 2
}
